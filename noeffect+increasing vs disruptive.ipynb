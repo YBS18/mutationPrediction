{
 "cells": [
  {
   "cell_type": "markdown",
   "metadata": {},
   "source": [
    "#### Setup Imports"
   ]
  },
  {
   "cell_type": "code",
   "execution_count": 382,
   "metadata": {},
   "outputs": [],
   "source": [
    "import pandas as pd\n",
    "import numpy as np\n",
    "import matplotlib.pyplot as plt\n",
    "import xgboost as xgb\n",
    "from sklearn.model_selection import train_test_split\n",
    "from sklearn.metrics import accuracy_score\n",
    "from sklearn.metrics import balanced_accuracy_score\n",
    "from sklearn.ensemble import RandomForestClassifier\n",
    "from sklearn.svm import SVC\n",
    "from sklearn.naive_bayes import GaussianNB\n",
    "from sklearn.ensemble import GradientBoostingClassifier\n",
    "from sklearn.ensemble import RandomForestClassifier\n",
    "from sklearn.ensemble import AdaBoostClassifier\n",
    "from xgboost import XGBClassifier\n",
    "from sklearn.compose import ColumnTransformer\n",
    "from sklearn.pipeline import Pipeline\n",
    "from sklearn.impute import SimpleImputer\n",
    "from sklearn.preprocessing import OneHotEncoder\n",
    "from sklearn import model_selection\n",
    "from sklearn.linear_model import LogisticRegression\n",
    "from sklearn.tree import DecisionTreeClassifier\n",
    "from sklearn.neighbors import KNeighborsClassifier\n",
    "from sklearn.discriminant_analysis import LinearDiscriminantAnalysis\n",
    "from sklearn.naive_bayes import GaussianNB\n",
    "from sklearn.svm import SVC\n",
    "from sklearn.preprocessing import StandardScaler\n",
    "from sklearn.model_selection import cross_val_score\n",
    "from sklearn.metrics import confusion_matrix\n"
   ]
  },
  {
   "cell_type": "markdown",
   "metadata": {},
   "source": [
    "#### Setup Variables"
   ]
  },
  {
   "cell_type": "markdown",
   "metadata": {},
   "source": [
    "Setting up the path for datasets.\n",
    "Features list is used to select features we want to train our model on.\n",
    "Add or remove by deleting from the list."
   ]
  },
  {
   "cell_type": "code",
   "execution_count": 383,
   "metadata": {},
   "outputs": [],
   "source": [
    "mutations_file_path = \"/Users/yagizbatu/Documents/projects/mutationPredict/prepareToClassify.csv\"\n",
    "predict_file_path = \"/Users/yagizbatu/Documents/projects/mutationPredict/allresults.txt\"\n",
    "\n",
    "toPredict = pd.read_csv(predict_file_path, sep=\"\\t\")\n",
    "mutations = pd.read_csv(mutations_file_path)\n",
    "\n",
    "features = ['Template_sequence_identity', 'Alignment_score',\n",
    "       'Interactor_template_sequence_identity', 'Interactor_alignment_score',\n",
    "       'Model/DOPE_score', 'Matrix_score', 'Solvent_accessibility_wt',\n",
    "       'Solvent_accessibility_mut', 'pcv_salt_equal_wt',\n",
    "       'pcv_salt_opposite_wt', 'pcv_hbond_wt', 'pcv_vdW_wt',\n",
    "       'pcv_salt_equal_mut', 'pcv_salt_opposite_mut', 'pcv_hbond_mut',\n",
    "       'pcv_vdW_mut', 'pcv_salt_equal_self_wt', 'pcv_salt_opposite_self_wt',\n",
    "       'pcv_hbond_self_wt', 'pcv_vdW_self_wt', 'pcv_salt_equal_self_mut',\n",
    "       'pcv_salt_opposite_self_mut', 'pcv_hbond_self_mut', 'pcv_vdW_self_mut',\n",
    "       'dg_wt', 'backbone_hbond_wt', 'sidechain_hbond_wt', 'van_der_waals_wt',\n",
    "       'electrostatics_wt', 'solvation_polar_wt', 'solvation_hydrophobic_wt',\n",
    "       'van_der_waals_clashes_wt', 'entropy_sidechain_wt',\n",
    "       'entropy_mainchain_wt', 'sloop_entropy_wt', 'mloop_entropy_wt',\n",
    "       'cis_bond_wt', 'torsional_clash_wt', 'backbone_clash_wt',\n",
    "       'helix_dipole_wt', 'water_bridge_wt', 'disulfide_wt',\n",
    "       'electrostatic_kon_wt', 'partial_covalent_bonds_wt',\n",
    "       'energy_ionisation_wt', 'entropy_complex_wt', 'number_of_residues_wt',\n",
    "       'dg_mut', 'backbone_hbond_mut', 'sidechain_hbond_mut',\n",
    "       'van_der_waals_mut', 'electrostatics_mut', 'solvation_polar_mut',\n",
    "       'solvation_hydrophobic_mut', 'van_der_waals_clashes_mut',\n",
    "       'entropy_sidechain_mut', 'entropy_mainchain_mut', 'sloop_entropy_mut',\n",
    "       'mloop_entropy_mut', 'cis_bond_mut', 'torsional_clash_mut',\n",
    "       'backbone_clash_mut', 'helix_dipole_mut', 'water_bridge_mut',\n",
    "       'disulfide_mut', 'electrostatic_kon_mut', 'partial_covalent_bonds_mut',\n",
    "       'energy_ionisation_mut', 'entropy_complex_mut',\n",
    "       'number_of_residues_mut', 'IntraclashesEnergy1_wt',\n",
    "       'IntraclashesEnergy1_mut', 'IntraclashesEnergy2_wt',\n",
    "       'IntraclashesEnergy2_mut', 'Interface_contact_distance_wt',\n",
    "       'Interface_contact_distance_mut', 'Final_ddG']\n",
    "target = 'feature_type'"
   ]
  },
  {
   "cell_type": "markdown",
   "metadata": {},
   "source": [
    "#### Data preprocessing"
   ]
  },
  {
   "cell_type": "markdown",
   "metadata": {},
   "source": [
    "From the data the labels are chosen which the model is going to be trained on."
   ]
  },
  {
   "cell_type": "code",
   "execution_count": 384,
   "metadata": {},
   "outputs": [
    {
     "name": "stdout",
     "output_type": "stream",
     "text": [
      "(4692, 102)\n",
      "(3525, 102)\n"
     ]
    }
   ],
   "source": [
    "toDrop = ['mutation decreasing rate(MI:1130)', 'mutation increasing rate(MI:1131)',\n",
    "         'mutation increasing strength(MI:1132)', 'mutation decreasing strength(MI:1133)','mutation decreasing(MI:0119)', \n",
    "         'mutation increasing(MI:0382)']\n",
    "\n",
    "mutations_dropped = mutations[mutations.feature_type != 'mutation decreasing rate(MI:1130)']\n",
    "#mutations_dropped = mutations_dropped[mutations_dropped.feature_type != 'mutation increasing rate(MI:1131)']\n",
    "#mutations_dropped = mutations_dropped[mutations_dropped.feature_type != 'mutation increasing strength(MI:1132)']\n",
    "mutations_dropped = mutations_dropped[mutations_dropped.feature_type != 'mutation decreasing strength(MI:1133)']\n",
    "mutations_dropped = mutations_dropped[mutations_dropped.feature_type != 'mutation decreasing(MI:0119)']\n",
    "#mutations_dropped = mutations_dropped[mutations_dropped.feature_type != 'mutation increasing(MI:0382)']\n",
    "mutations_dropped = mutations_dropped[mutations_dropped.feature_type != 'mutation causing(MI:2227)']\n",
    "mutations_dropped = mutations_dropped[mutations_dropped.feature_type != 'mutation(MI:0118)']\n",
    "print(mutations.shape)\n",
    "print(mutations_dropped.shape)\n"
   ]
  },
  {
   "cell_type": "markdown",
   "metadata": {},
   "source": [
    "#### Feature Binning "
   ]
  },
  {
   "cell_type": "markdown",
   "metadata": {},
   "source": [
    "For this model 2 classes are used so the data is binned, disrupting to one, increasing and no effect to other."
   ]
  },
  {
   "cell_type": "code",
   "execution_count": 385,
   "metadata": {},
   "outputs": [
    {
     "data": {
      "text/plain": [
       "<bound method NDFrame.head of 15      1\n",
       "16      1\n",
       "17      1\n",
       "18      1\n",
       "19      1\n",
       "       ..\n",
       "4658    2\n",
       "4661    2\n",
       "4666    2\n",
       "4667    2\n",
       "4668    2\n",
       "Name: feature_type, Length: 3525, dtype: int64>"
      ]
     },
     "execution_count": 385,
     "metadata": {},
     "output_type": "execute_result"
    }
   ],
   "source": [
    "replace_map = {'feature_type': {'mutation disrupting(MI:0573)': 1,\n",
    "                                'mutation disrupting strength(MI:1128)': 1,\n",
    "                                'mutation with no effect(MI:2226)': 2, 'mutation disrupting rate(MI:1129)': 1,\n",
    "                               'mutation increasing(MI:0382)': 2, 'mutation increasing strength(MI:1132)': 2,\n",
    "                               'mutation increasing rate(MI:1131)': 2}}\n",
    "mutations_cat = mutations_dropped.copy()\n",
    "mutations_cat.replace(replace_map, inplace=True)\n",
    "mutations_cat['feature_type'].head"
   ]
  },
  {
   "cell_type": "markdown",
   "metadata": {},
   "source": [
    "#### Setup training and test variables"
   ]
  },
  {
   "cell_type": "markdown",
   "metadata": {},
   "source": [
    "At this point the data is preprocessed and the train and test variables are initialized. "
   ]
  },
  {
   "cell_type": "code",
   "execution_count": 386,
   "metadata": {},
   "outputs": [],
   "source": [
    "X = mutations_cat[features]\n",
    "y = mutations_cat.feature_type\n",
    "\n",
    "\n",
    "predict_X = toPredict[features]\n",
    "\n",
    "\n",
    "train_X_full, val_X_full, train_y, val_y = train_test_split(X, y, random_state=0)"
   ]
  },
  {
   "cell_type": "markdown",
   "metadata": {},
   "source": [
    "#### Data Exploration"
   ]
  },
  {
   "cell_type": "code",
   "execution_count": 387,
   "metadata": {},
   "outputs": [
    {
     "name": "stdout",
     "output_type": "stream",
     "text": [
      "1    2171\n",
      "2    1354\n",
      "Name: feature_type, dtype: int64\n",
      "<bound method NDFrame.head of      Template_sequence_identity Alignment_score  \\\n",
      "15                          1.0             1.0   \n",
      "16                          1.0             1.0   \n",
      "17                          1.0        0.946667   \n",
      "18                       0.9577        0.908625   \n",
      "19                       0.9577        0.908625   \n",
      "...                         ...             ...   \n",
      "4658                     0.9897        0.728649   \n",
      "4661                     0.2762        0.224393   \n",
      "4666                     0.7922        0.393627   \n",
      "4667                     0.3333        0.168138   \n",
      "4668                     0.3333        0.168138   \n",
      "\n",
      "     Interactor_template_sequence_identity Interactor_alignment_score  \\\n",
      "15                                  0.4552                   0.454245   \n",
      "16                                  0.8707                   0.877165   \n",
      "17                                     1.0                   0.972414   \n",
      "18                                     0.5                   0.307759   \n",
      "19                                     0.5                   0.278906   \n",
      "...                                    ...                        ...   \n",
      "4658                                0.9898                   0.732456   \n",
      "4661                                0.9693                   0.891527   \n",
      "4666                                   1.0                        1.0   \n",
      "4667                                 0.266                    0.24567   \n",
      "4668                                0.2664                   0.241279   \n",
      "\n",
      "     Model/DOPE_score Matrix_score Solvent_accessibility_wt  \\\n",
      "15            -1.2792          2.0                  65.5117   \n",
      "16           -1.79562          2.0                  83.1823   \n",
      "17           -1.49386          2.0                  72.6251   \n",
      "18           0.115782          2.0                  68.9856   \n",
      "19          -0.839086          2.0                  66.3065   \n",
      "...               ...          ...                      ...   \n",
      "4658        -0.607345         -4.0                  70.7494   \n",
      "4661         0.369552         -3.0                  1.51011   \n",
      "4666        -0.414929         -1.0                  36.0912   \n",
      "4667         0.971404         -1.0                  37.9331   \n",
      "4668         0.421878         -1.0                  33.9853   \n",
      "\n",
      "     Solvent_accessibility_mut pcv_salt_equal_wt pcv_salt_opposite_wt  ...  \\\n",
      "15                     62.2054                 0                    0  ...   \n",
      "16                     70.9463                 0                    0  ...   \n",
      "17                     70.9357                 0                    0  ...   \n",
      "18                     69.6301                 0                    0  ...   \n",
      "19                     68.0044                 0                    0  ...   \n",
      "...                        ...               ...                  ...  ...   \n",
      "4658                   55.6029                 0                    0  ...   \n",
      "4661                   14.7734                 0                    0  ...   \n",
      "4666                   7.71385                 0                    0  ...   \n",
      "4667                   20.1279                 1                    0  ...   \n",
      "4668                    13.967                 0                    0  ...   \n",
      "\n",
      "     energy_ionisation_mut entropy_complex_mut number_of_residues_mut  \\\n",
      "15               0.0659492               2.384                    225   \n",
      "16               0.0188978               2.384                    222   \n",
      "17               0.0371747               2.384                    213   \n",
      "18                       0               2.384                    130   \n",
      "19                       0               2.384                    107   \n",
      "...                    ...                 ...                    ...   \n",
      "4658               0.11617               2.384                    394   \n",
      "4661             0.0111936               2.384                    605   \n",
      "4666                     0               2.384                    177   \n",
      "4667              0.122237               2.384                    418   \n",
      "4668               0.11232               2.384                    432   \n",
      "\n",
      "     IntraclashesEnergy1_wt IntraclashesEnergy1_mut IntraclashesEnergy2_wt  \\\n",
      "15                  18.4275                 18.5162                56.9236   \n",
      "16                   17.326                   17.45                27.2825   \n",
      "17                  13.1702                 13.2536                33.7082   \n",
      "18                  8.47624                 8.55002                62.9675   \n",
      "19                  9.84924                 9.90537                4.84605   \n",
      "...                     ...                     ...                    ...   \n",
      "4658                46.8409                 46.9244                46.4461   \n",
      "4661                343.616                 346.361                85.2292   \n",
      "4666                46.5841                 46.1209                5.37877   \n",
      "4667                40.7413                 40.5795                410.906   \n",
      "4668                46.2421                 45.7366                184.771   \n",
      "\n",
      "     IntraclashesEnergy2_mut Interface_contact_distance_wt  \\\n",
      "15                   56.9236                       4.33711   \n",
      "16                   27.2825                       2.90389   \n",
      "17                   33.7082                       2.80582   \n",
      "18                   62.9675                       3.18814   \n",
      "19                   4.84578                       2.91226   \n",
      "...                      ...                           ...   \n",
      "4658                 46.4461                       3.72936   \n",
      "4661                 85.2191                       3.01998   \n",
      "4666                 5.37877                       4.60807   \n",
      "4667                 410.906                       3.04801   \n",
      "4668                 184.771                       2.85706   \n",
      "\n",
      "     Interface_contact_distance_mut Final_ddG  \n",
      "15                          4.33711  0.431703  \n",
      "16                          2.95676  0.888784  \n",
      "17                          2.76713  0.696716  \n",
      "18                          2.91172  0.831387  \n",
      "19                          2.88144  0.567232  \n",
      "...                             ...       ...  \n",
      "4658                        3.71743  0.730903  \n",
      "4661                        3.00136   3.00718  \n",
      "4666                        4.60807   1.46686  \n",
      "4667                        4.13598   1.89703  \n",
      "4668                        5.32086   2.02431  \n",
      "\n",
      "[3525 rows x 77 columns]>\n"
     ]
    }
   ],
   "source": [
    "print(y.value_counts())\n",
    "\n",
    "print(X.head)"
   ]
  },
  {
   "cell_type": "markdown",
   "metadata": {},
   "source": [
    "### Data cleaning"
   ]
  },
  {
   "cell_type": "markdown",
   "metadata": {},
   "source": [
    "Simple processes to clean up the data,\n",
    "To fill in the empty data Imputer is used, for numerical strategy is constant which fills with 0.\n",
    "For categorical data strategy is most frequent.\n",
    "Categorical data also is encoded with one hot encoder."
   ]
  },
  {
   "cell_type": "code",
   "execution_count": 388,
   "metadata": {},
   "outputs": [
    {
     "name": "stdout",
     "output_type": "stream",
     "text": [
      "(882, 77)\n",
      "(2643, 77)\n"
     ]
    }
   ],
   "source": [
    "numerical_cols = [cname for cname in train_X_full.columns if train_X_full[cname].dtype in ['int64', 'float64']]\n",
    "\n",
    "categorical_cols = categorical_cols = [cname for cname in train_X_full.columns if train_X_full[cname].dtype == \"object\"]\n",
    "\n",
    "\n",
    "\n",
    "my_cols = numerical_cols + categorical_cols\n",
    "train_X = train_X_full[my_cols].copy()\n",
    "val_X = val_X_full[my_cols].copy()\n",
    "print(val_X.shape)\n",
    "print(train_X.shape)"
   ]
  },
  {
   "cell_type": "markdown",
   "metadata": {},
   "source": [
    "#### Fitting and Tuning"
   ]
  },
  {
   "cell_type": "markdown",
   "metadata": {},
   "source": [
    "Fitting and tuning the model for better results.\n",
    "Looking at confusion matrix we can see results are really unbalanced. This is the main issue with the dataset and there is not much solution but binning some feature types together."
   ]
  },
  {
   "cell_type": "code",
   "execution_count": 389,
   "metadata": {},
   "outputs": [],
   "source": [
    "\n",
    "#clearing numerical data\n",
    "numerical_transformer = SimpleImputer(strategy='constant')\n",
    "#categorical\n",
    "categorical_transformer = Pipeline(steps=[\n",
    "    ('imputer', SimpleImputer(strategy='most_frequent')),\n",
    "    ('onehot', OneHotEncoder(handle_unknown='ignore'))\n",
    "])\n",
    "\n",
    "preprocessor = ColumnTransformer(\n",
    "    transformers=[\n",
    "        ('num', numerical_transformer, numerical_cols),\n",
    "        ('cat', categorical_transformer, categorical_cols)\n",
    "    ])\n",
    "\n",
    "model = XGBClassifier( learning_rate =0.1,\n",
    " n_estimators=1000,\n",
    " max_depth=4,\n",
    " min_child_weight=6,\n",
    " gamma=0,\n",
    " subsample=0.8,\n",
    " colsample_bytree=0.8,\n",
    " objective= 'binary:logistic',\n",
    " nthread=4,\n",
    " scale_pos_weight=1,\n",
    " seed=27)\n",
    "\n",
    "my_pipeline = Pipeline(steps=[('preprocessor', preprocessor),\n",
    "                             ('model', model)\n",
    "                             ])\n",
    "\n",
    "my_pipeline.fit(train_X, train_y)\n",
    "FirstScore = my_pipeline.score(val_X, val_y)"
   ]
  },
  {
   "cell_type": "code",
   "execution_count": 390,
   "metadata": {},
   "outputs": [
    {
     "name": "stdout",
     "output_type": "stream",
     "text": [
      "0.8276643990929705\n",
      "[[473  76]\n",
      " [ 76 257]]\n"
     ]
    }
   ],
   "source": [
    "preds = my_pipeline.predict(val_X)\n",
    "print(FirstScore)\n",
    "print(confusion_matrix(val_y, preds))"
   ]
  },
  {
   "cell_type": "markdown",
   "metadata": {},
   "source": [
    "#### Model Selection"
   ]
  },
  {
   "cell_type": "markdown",
   "metadata": {},
   "source": [
    "The data is labeled so couple of supervised learning algorithms are tested.\n",
    "I picked XGBoost as all of the algoriths performed similar but XGBoost has more room for optimizing and also the most popular.\n",
    "\n",
    "Performance for this dataset : mean of 70 percent and deviation around 20.\n",
    "This performance makes sense considering the binning we have to perform so the dataset is not unbalanced."
   ]
  },
  {
   "cell_type": "code",
   "execution_count": 312,
   "metadata": {},
   "outputs": [
    {
     "name": "stderr",
     "output_type": "stream",
     "text": [
      "/usr/local/lib/python3.7/site-packages/sklearn/model_selection/_split.py:296: FutureWarning: Setting a random_state has no effect since shuffle is False. This will raise an error in 0.24. You should leave random_state to its default (None), or set shuffle=True.\n",
      "  FutureWarning\n"
     ]
    },
    {
     "name": "stdout",
     "output_type": "stream",
     "text": [
      "Rf: 0.706805 (0.213275)\n"
     ]
    },
    {
     "name": "stderr",
     "output_type": "stream",
     "text": [
      "/usr/local/lib/python3.7/site-packages/sklearn/model_selection/_split.py:296: FutureWarning: Setting a random_state has no effect since shuffle is False. This will raise an error in 0.24. You should leave random_state to its default (None), or set shuffle=True.\n",
      "  FutureWarning\n"
     ]
    },
    {
     "name": "stdout",
     "output_type": "stream",
     "text": [
      "XGB: 0.706805 (0.213275)\n"
     ]
    },
    {
     "name": "stderr",
     "output_type": "stream",
     "text": [
      "/usr/local/lib/python3.7/site-packages/sklearn/model_selection/_split.py:296: FutureWarning: Setting a random_state has no effect since shuffle is False. This will raise an error in 0.24. You should leave random_state to its default (None), or set shuffle=True.\n",
      "  FutureWarning\n"
     ]
    },
    {
     "name": "stdout",
     "output_type": "stream",
     "text": [
      "Ada: 0.707373 (0.213466)\n"
     ]
    },
    {
     "data": {
      "image/png": "[encoded data removed]",
      "text/plain": [
       "<Figure size 432x288 with 1 Axes>"
      ]
     },
     "metadata": {
      "needs_background": "light"
     },
     "output_type": "display_data"
    }
   ],
   "source": [
    "seed = 7\n",
    "models = []\n",
    "models.append(('Rf', RandomForestClassifier()))\n",
    "models.append(('XGB', XGBClassifier()))\n",
    "models.append(('Ada', AdaBoostClassifier()))\n",
    "# evaluate each model in turn\n",
    "results = []\n",
    "names = []\n",
    "scoring = 'accuracy'\n",
    "for name, model in models:\n",
    "\tkfold = model_selection.KFold(n_splits=10, random_state=seed)\n",
    "\tcv_results = model_selection.cross_val_score(my_pipeline, X, y, cv=kfold)\n",
    "\tresults.append(cv_results)\n",
    "\tnames.append(name)\n",
    "\tmsg = \"%s: %f (%f)\" % (name, cv_results.mean(), cv_results.std())\n",
    "\tprint(msg)\n",
    "# boxplot algorithm comparison\n",
    "fig = plt.figure()\n",
    "fig.suptitle('Algorithm Comparison')\n",
    "ax = fig.add_subplot(111)\n",
    "plt.boxplot(results)\n",
    "ax.set_xticklabels(names)\n",
    "plt.show()"
   ]
  },
  {
   "cell_type": "markdown",
   "metadata": {},
   "source": [
    "#### Final training and output"
   ]
  },
  {
   "cell_type": "markdown",
   "metadata": {},
   "source": [
    "Since the final model is chosen the split is not needed anymore. Thats the reason X and y is used here.\n",
    "\n",
    "The prediction is done and printed to a file in the path with accuracy."
   ]
  },
  {
   "cell_type": "code",
   "execution_count": 391,
   "metadata": {},
   "outputs": [],
   "source": [
    "# Print the feature ranking\n",
    "#print(\"Feature ranking:\")\n",
    "#for f in range(X.shape[1]):\n",
    "#    print(\"%d. feature %d (%f)\" % (f + 1, indices[f], importances[indices[f]]))\n",
    "#my_pipeline.score(val_X, val_y)\n",
    "my_pipeline.fit(X, y)\n",
    "realpreds = my_pipeline.predict(predict_X)\n",
    "#acc = accuracy_score(val_y, preds)\n",
    "#print(' balanced acc:', score)\n",
    "#print(' acc:', acc)\n",
    "f = open(\"noeff+incvsdisruptiveV2.txt\", \"w\")\n",
    "f.write(\"accuracy: \" + str(FirstScore))\n",
    "f.write(\"\\t1 = disruptive, 2 = no effect or increasing\\n\")\n",
    "for i in range(1,len(realpreds)):\n",
    "    f.write(str(realpreds[i]))\n",
    "    f.write(\"\\t\" + toPredict[\"Input_identifier\"][i] + \".\" + toPredict[\"Mutation\"][i] + \"\\n\")"
   ]
  },
  {
   "cell_type": "code",
   "execution_count": null,
   "metadata": {},
   "outputs": [],
   "source": []
  }
 ],
 "metadata": {
  "kernelspec": {
   "display_name": "Python 3",
   "language": "python",
   "name": "python3"
  },
  "language_info": {
   "codemirror_mode": {
    "name": "ipython",
    "version": 3
   },
   "file_extension": ".py",
   "mimetype": "text/x-python",
   "name": "python",
   "nbconvert_exporter": "python",
   "pygments_lexer": "ipython3",
   "version": "3.7.4"
  }
 },
 "nbformat": 4,
 "nbformat_minor": 2
}
